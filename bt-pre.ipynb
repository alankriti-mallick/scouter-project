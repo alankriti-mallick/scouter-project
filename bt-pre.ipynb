{
 "cells": [
  {
   "cell_type": "code",
   "execution_count": 86,
   "metadata": {},
   "outputs": [],
   "source": [
    "import numpy as np \n",
    "# from tqdm import tqdm\n",
    "# import cv2\n",
    "import os\n",
    "import imutils\n",
    "# import matplotlib.pyplot as plt\n",
    "import csv"
   ]
  },
  {
   "cell_type": "code",
   "execution_count": 78,
   "metadata": {},
   "outputs": [],
   "source": [
    "\n",
    "ROOT_PATH = \"./data/bt/raw\"\n",
    "PROCESSED_DIR = './data/bt/processed'\n",
    "CLASS_NAMES = {\"pituitary_tumor\": 3, \"no_tumor\": 0,\n",
    "               \"meningioma_tumor\": 2, \"glioma_tumor\": 1}\n",
    "IMG_SIZE = (260,260)\n",
    "\n",
    "if not os.path.exists(PROCESSED_DIR):\n",
    "    os.makedirs(PROCESSED_DIR)"
   ]
  },
  {
   "cell_type": "code",
   "execution_count": 79,
   "metadata": {},
   "outputs": [],
   "source": [
    "def load_data(dir_path):\n",
    "    \"\"\"\n",
    "    Load resized images as np.arrays to workspace\n",
    "    \"\"\"\n",
    "\n",
    "    print(\"Loading Dataset...\")\n",
    "    data = []\n",
    "\n",
    "    for cls in tqdm(os.listdir(f'{dir_path}')):\n",
    "        i = 1\n",
    "        for file in os.listdir(f'{dir_path}/{cls}'):\n",
    "            tmp = {}\n",
    "            img = cv2.imread(f'{dir_path}/{cls}/{file}')\n",
    "            tmp[\"image\"] = img\n",
    "            tmp['label'] = CLASS_NAMES[cls]\n",
    "            tmp['name'] = str(i) + '.jpg'\n",
    "\n",
    "            data.append(tmp)\n",
    "            i += 1\n",
    "\n",
    "    return data\n"
   ]
  },
  {
   "cell_type": "code",
   "execution_count": 80,
   "metadata": {},
   "outputs": [],
   "source": [
    "def crop_imgs(set_name, add_pixels_value=0):\n",
    "    \"\"\"\n",
    "    Finds the extreme points on the image and crops the rectangular out of them\n",
    "    \"\"\"\n",
    "    print(\"Cropping...\")\n",
    "\n",
    "    set_new = []\n",
    "    for sample in tqdm(set_name):\n",
    "        img = sample['image']\n",
    "        gray = cv2.cvtColor(img, cv2.COLOR_RGB2GRAY)\n",
    "        gray = cv2.GaussianBlur(gray, (5, 5), 0)\n",
    "\n",
    "        # threshold the image, then perform a series of erosions +\n",
    "        # dilations to remove any small regions of noise\n",
    "        thresh = cv2.threshold(gray, 45, 255, cv2.THRESH_BINARY)[1]\n",
    "        thresh = cv2.erode(thresh, None, iterations=2)\n",
    "        thresh = cv2.dilate(thresh, None, iterations=2)\n",
    "\n",
    "        # find contours in thresholded image, then grab the largest one\n",
    "        cnts = cv2.findContours(\n",
    "            thresh.copy(), cv2.RETR_EXTERNAL, cv2.CHAIN_APPROX_SIMPLE)\n",
    "        cnts = imutils.grab_contours(cnts)\n",
    "        c = max(cnts, key=cv2.contourArea)\n",
    "\n",
    "        # find the extreme points\n",
    "        extLeft = tuple(c[c[:, :, 0].argmin()][0])\n",
    "        extRight = tuple(c[c[:, :, 0].argmax()][0])\n",
    "        extTop = tuple(c[c[:, :, 1].argmin()][0])\n",
    "        extBot = tuple(c[c[:, :, 1].argmax()][0])\n",
    "\n",
    "        ADD_PIXELS = add_pixels_value\n",
    "        new_img = img[extTop[1]-ADD_PIXELS:extBot[1]+ADD_PIXELS,\n",
    "                      extLeft[0]-ADD_PIXELS:extRight[0]+ADD_PIXELS].copy()\n",
    "\n",
    "        set_new.append(\n",
    "            {'image': new_img,\n",
    "                'name': sample['name'], 'label': sample['label']})\n",
    "\n",
    "    return np.array(set_new)\n"
   ]
  },
  {
   "cell_type": "code",
   "execution_count": 81,
   "metadata": {},
   "outputs": [],
   "source": [
    "def save_new_images(dataset, dir_path):\n",
    "    print(\"Saving...\")\n",
    "\n",
    "    for item in tqdm(dataset):\n",
    "        file_path = f'{dir_path}/{item[\"label\"]}'\n",
    "        if not os.path.exists(file_path):\n",
    "            os.makedirs(file_path)\n",
    "\n",
    "        cv2.imwrite(file_path + '/' + item[\"name\"], item['image'])"
   ]
  },
  {
   "cell_type": "code",
   "execution_count": 83,
   "metadata": {},
   "outputs": [
    {
     "name": "stdout",
     "output_type": "stream",
     "text": [
      "Loading Dataset...\n"
     ]
    },
    {
     "name": "stderr",
     "output_type": "stream",
     "text": [
      "100%|██████████| 4/4 [00:06<00:00,  1.56s/it]\n"
     ]
    },
    {
     "name": "stdout",
     "output_type": "stream",
     "text": [
      "Cropping...\n"
     ]
    },
    {
     "name": "stderr",
     "output_type": "stream",
     "text": [
      "100%|██████████| 394/394 [00:00<00:00, 599.61it/s] \n"
     ]
    },
    {
     "name": "stdout",
     "output_type": "stream",
     "text": [
      "Saving...\n"
     ]
    },
    {
     "name": "stderr",
     "output_type": "stream",
     "text": [
      "100%|██████████| 394/394 [00:01<00:00, 246.42it/s]"
     ]
    },
    {
     "name": "stdout",
     "output_type": "stream",
     "text": [
      "Done\n"
     ]
    },
    {
     "name": "stderr",
     "output_type": "stream",
     "text": [
      "\n"
     ]
    }
   ],
   "source": [
    "# Training\n",
    "\n",
    "dataset = load_data(f'{ROOT_PATH}/Training')\n",
    "cropped_images = crop_imgs(dataset)\n",
    "dir_path = f'{PROCESSED_DIR}/Training'\n",
    "if not os.path.exists(dir_path):\n",
    "    os.makedirs(dir_path)\n",
    "save_new_images(cropped_images, dir_path)\n",
    "\n",
    "print(\"\\n\\n\")\n",
    "# Testing\n",
    "\n",
    "dataset = load_data(f'{ROOT_PATH}/Testing')\n",
    "cropped_images = crop_imgs(dataset)\n",
    "dir_path = f'{PROCESSED_DIR}/Test'\n",
    "save_new_images(cropped_images, dir_path)\n",
    "\n",
    "print(\"Done\")\n"
   ]
  },
  {
   "cell_type": "code",
   "execution_count": 92,
   "metadata": {},
   "outputs": [],
   "source": [
    "def make_dataset_csv(dir_path, csv_file):\n",
    "    with open(csv_file, 'w', newline='') as file:\n",
    "        writer = csv.writer(file)\n",
    "        for cls in tqdm(os.listdir(dir_path)):\n",
    "            for file in os.listdir(f'{dir_path}/{cls}'):\n",
    "                writer.writerow([file, cls])\n"
   ]
  },
  {
   "cell_type": "code",
   "execution_count": 93,
   "metadata": {},
   "outputs": [
    {
     "name": "stderr",
     "output_type": "stream",
     "text": [
      "100%|██████████| 4/4 [00:00<00:00, 477.48it/s]\n",
      "100%|██████████| 4/4 [00:00<00:00, 2872.81it/s]\n"
     ]
    }
   ],
   "source": [
    "training_dir_path = os.path.join(PROCESSED_DIR, 'Training')\n",
    "csv_file_path = f\"{PROCESSED_DIR}/train_dataset.csv\"\n",
    "make_dataset_csv(training_dir_path, csv_file_path)\n",
    "\n",
    "test_dir_path = os.path.join(PROCESSED_DIR, 'Testing')\n",
    "csv_file_path = f\"{PROCESSED_DIR}/test_dataset.csv\"\n",
    "make_dataset_csv(test_dir_path, csv_file_path)"
   ]
  }
 ],
 "metadata": {
  "kernelspec": {
   "display_name": "venv",
   "language": "python",
   "name": "python3"
  },
  "language_info": {
   "codemirror_mode": {
    "name": "ipython",
    "version": 3
   },
   "file_extension": ".py",
   "mimetype": "text/x-python",
   "name": "python",
   "nbconvert_exporter": "python",
   "pygments_lexer": "ipython3",
   "version": "3.10.8"
  },
  "orig_nbformat": 4
 },
 "nbformat": 4,
 "nbformat_minor": 2
}
